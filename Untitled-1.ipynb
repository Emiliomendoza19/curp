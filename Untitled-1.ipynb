{
 "cells": [
  {
   "cell_type": "code",
   "execution_count": null,
   "metadata": {},
   "outputs": [],
   "source": [
    "nombre = input(\"dime tu nombre porfavor\")\n",
    "apellido = input(\"dime tu apellido porfas\")\n",
    "edad = input(\"dime tu edad porfa\")\n",
    "print(\"tus datos son\")\n",
    "print(\"Tu nombre:\",nombre)\n",
    "print(\"Tu apellido:\",apellido)\n",
    "print(\"Tu edad:\", edad)\n",
    "s = nombre\n",
    "e = apellido\n",
    "s[0:2].upper() + edad + e[0:2].upper()\n"
   ]
  }
 ],
 "metadata": {
  "kernelspec": {
   "display_name": "Python 3",
   "language": "python",
   "name": "python3"
  },
  "language_info": {
   "name": "python",
   "version": "3.11.3"
  }
 },
 "nbformat": 4,
 "nbformat_minor": 2
}
